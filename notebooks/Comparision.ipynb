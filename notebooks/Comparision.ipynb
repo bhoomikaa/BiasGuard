{
 "cells": [
  {
   "cell_type": "code",
   "execution_count": 1,
   "id": "e355f63f",
   "metadata": {},
   "outputs": [],
   "source": [
    "import json, os\n",
    "import pandas as pd\n",
    "from pathlib import Path\n",
    "\n",
    "# Where Trainer saves logs (we used these output_dir paths)\n",
    "paths = {\n",
    "    \"DistilBERT\": \"outputs/distilbert_sst2_small\",\n",
    "    \"BERT\": \"outputs/bert_sst2_small\",\n",
    "    \"RoBERTa\": \"outputs/roberta_sst2_small\",\n",
    "}\n",
    "\n",
    "def read_eval_metrics(out_dir: str):\n",
    "    \"\"\"\n",
    "    Try to read evaluation results from the Trainer's eval logs if present;\n",
    "    otherwise, fallback to a simple 'metrics.json' pattern if you saved one.\n",
    "    \"\"\"\n",
    "    out = {\"eval_accuracy\": None, \"eval_loss\": None}\n",
    "    # common HF files to check\n",
    "    cand = [\n",
    "        Path(out_dir) / \"eval_results.json\",\n",
    "        Path(out_dir) / \"all_results.json\",\n",
    "    ]\n",
    "    for p in cand:\n",
    "        if p.exists():\n",
    "            with open(p, \"r\") as f:\n",
    "                data = json.load(f)\n",
    "            out[\"eval_accuracy\"] = data.get(\"eval_accuracy\")\n",
    "            out[\"eval_loss\"] = data.get(\"eval_loss\")\n",
    "            return out\n",
    "    # if none found, return Nones\n",
    "    return out\n"
   ]
  },
  {
   "cell_type": "code",
   "execution_count": 2,
   "id": "a22b27df",
   "metadata": {},
   "outputs": [
    {
     "data": {
      "text/html": [
       "<div>\n",
       "<style scoped>\n",
       "    .dataframe tbody tr th:only-of-type {\n",
       "        vertical-align: middle;\n",
       "    }\n",
       "\n",
       "    .dataframe tbody tr th {\n",
       "        vertical-align: top;\n",
       "    }\n",
       "\n",
       "    .dataframe thead th {\n",
       "        text-align: right;\n",
       "    }\n",
       "</style>\n",
       "<table border=\"1\" class=\"dataframe\">\n",
       "  <thead>\n",
       "    <tr style=\"text-align: right;\">\n",
       "      <th></th>\n",
       "      <th>model</th>\n",
       "      <th>dataset</th>\n",
       "      <th>eval_accuracy</th>\n",
       "      <th>eval_loss</th>\n",
       "      <th>output_dir</th>\n",
       "    </tr>\n",
       "  </thead>\n",
       "  <tbody>\n",
       "    <tr>\n",
       "      <th>0</th>\n",
       "      <td>DistilBERT</td>\n",
       "      <td>SST-2 (subset)</td>\n",
       "      <td>None</td>\n",
       "      <td>None</td>\n",
       "      <td>outputs/distilbert_sst2_small</td>\n",
       "    </tr>\n",
       "    <tr>\n",
       "      <th>1</th>\n",
       "      <td>BERT</td>\n",
       "      <td>SST-2 (subset)</td>\n",
       "      <td>None</td>\n",
       "      <td>None</td>\n",
       "      <td>outputs/bert_sst2_small</td>\n",
       "    </tr>\n",
       "    <tr>\n",
       "      <th>2</th>\n",
       "      <td>RoBERTa</td>\n",
       "      <td>SST-2 (subset)</td>\n",
       "      <td>None</td>\n",
       "      <td>None</td>\n",
       "      <td>outputs/roberta_sst2_small</td>\n",
       "    </tr>\n",
       "  </tbody>\n",
       "</table>\n",
       "</div>"
      ],
      "text/plain": [
       "        model         dataset eval_accuracy eval_loss  \\\n",
       "0  DistilBERT  SST-2 (subset)          None      None   \n",
       "1        BERT  SST-2 (subset)          None      None   \n",
       "2     RoBERTa  SST-2 (subset)          None      None   \n",
       "\n",
       "                      output_dir  \n",
       "0  outputs/distilbert_sst2_small  \n",
       "1        outputs/bert_sst2_small  \n",
       "2     outputs/roberta_sst2_small  "
      ]
     },
     "execution_count": 2,
     "metadata": {},
     "output_type": "execute_result"
    }
   ],
   "source": [
    "rows = []\n",
    "for name, d in paths.items():\n",
    "    metrics = read_eval_metrics(d)\n",
    "    rows.append({\n",
    "        \"model\": name,\n",
    "        \"dataset\": \"SST-2 (subset)\",\n",
    "        \"eval_accuracy\": metrics[\"eval_accuracy\"],\n",
    "        \"eval_loss\": metrics[\"eval_loss\"],\n",
    "        \"output_dir\": d,\n",
    "    })\n",
    "df = pd.DataFrame(rows)\n",
    "df\n"
   ]
  },
  {
   "cell_type": "code",
   "execution_count": 3,
   "id": "248eb88b",
   "metadata": {},
   "outputs": [
    {
     "name": "stderr",
     "output_type": "stream",
     "text": [
      "c:\\Users\\bhoom\\OneDrive\\Data Engineering Interview kit\\BiasGuard\\.venv\\Lib\\site-packages\\tqdm\\auto.py:21: TqdmWarning: IProgress not found. Please update jupyter and ipywidgets. See https://ipywidgets.readthedocs.io/en/stable/user_install.html\n",
      "  from .autonotebook import tqdm as notebook_tqdm\n",
      "Map: 100%|██████████| 500/500 [00:00<00:00, 8866.03 examples/s]\n",
      "Some weights of DistilBertForSequenceClassification were not initialized from the model checkpoint at distilbert-base-uncased and are newly initialized: ['classifier.bias', 'classifier.weight', 'pre_classifier.bias', 'pre_classifier.weight']\n",
      "You should probably TRAIN this model on a down-stream task to be able to use it for predictions and inference.\n",
      "C:\\Users\\bhoom\\AppData\\Local\\Temp\\ipykernel_28064\\1380035342.py:28: FutureWarning: `tokenizer` is deprecated and will be removed in version 5.0.0 for `Trainer.__init__`. Use `processing_class` instead.\n",
      "  trainer = Trainer(model=model, args=args, eval_dataset=valid_tok, tokenizer=tok, compute_metrics=compute_metrics)\n",
      "c:\\Users\\bhoom\\OneDrive\\Data Engineering Interview kit\\BiasGuard\\.venv\\Lib\\site-packages\\torch\\utils\\data\\dataloader.py:668: UserWarning: 'pin_memory' argument is set as true but no accelerator is found, then device pinned memory won't be used.\n",
      "  warnings.warn(warn_msg)\n"
     ]
    },
    {
     "data": {
      "text/html": [
       "\n",
       "    <div>\n",
       "      \n",
       "      <progress value='16' max='16' style='width:300px; height:20px; vertical-align: middle;'></progress>\n",
       "      [16/16 00:35]\n",
       "    </div>\n",
       "    "
      ],
      "text/plain": [
       "<IPython.core.display.HTML object>"
      ]
     },
     "metadata": {},
     "output_type": "display_data"
    },
    {
     "data": {
      "text/plain": [
       "{'eval_loss': 0.6963725686073303,\n",
       " 'eval_model_preparation_time': 0.0033,\n",
       " 'eval_accuracy': 0.47,\n",
       " 'eval_runtime': 40.1777,\n",
       " 'eval_samples_per_second': 12.445,\n",
       " 'eval_steps_per_second': 0.398}"
      ]
     },
     "execution_count": 3,
     "metadata": {},
     "output_type": "execute_result"
    }
   ],
   "source": [
    "# OPTIONAL fallback: recompute eval accuracy for DistilBERT quickly\n",
    "from datasets import load_dataset\n",
    "from transformers import AutoTokenizer, AutoModelForSequenceClassification, Trainer, TrainingArguments\n",
    "import numpy as np, evaluate\n",
    "\n",
    "raw = load_dataset(\"glue\", \"sst2\")\n",
    "valid_small = raw[\"validation\"].select(range(500))\n",
    "\n",
    "tok = AutoTokenizer.from_pretrained(\"distilbert-base-uncased\")\n",
    "def tok_fn(batch): return tok(batch[\"sentence\"], truncation=True, padding=\"max_length\", max_length=128)\n",
    "valid_tok = valid_small.map(tok_fn, batched=True, remove_columns=valid_small.column_names)\n",
    "valid_tok = valid_tok.add_column(\"labels\", valid_small[\"label\"])\n",
    "\n",
    "model = AutoModelForSequenceClassification.from_pretrained(\"distilbert-base-uncased\", num_labels=2)\n",
    "\n",
    "args = TrainingArguments(\n",
    "    output_dir=\"outputs/distilbert_eval_only\",\n",
    "    per_device_eval_batch_size=32,\n",
    "    report_to=\"none\",\n",
    ")\n",
    "\n",
    "metric = evaluate.load(\"accuracy\")\n",
    "def compute_metrics(pred):\n",
    "    logits, labels = pred\n",
    "    preds = np.argmax(logits, axis=-1)\n",
    "    return {\"accuracy\": metric.compute(predictions=preds, references=labels)[\"accuracy\"]}\n",
    "\n",
    "trainer = Trainer(model=model, args=args, eval_dataset=valid_tok, tokenizer=tok, compute_metrics=compute_metrics)\n",
    "res = trainer.evaluate()\n",
    "res\n"
   ]
  },
  {
   "cell_type": "code",
   "execution_count": 4,
   "id": "c40d984c",
   "metadata": {},
   "outputs": [
    {
     "data": {
      "text/plain": [
       "('model_comparison_results.csv', (3, 5))"
      ]
     },
     "execution_count": 4,
     "metadata": {},
     "output_type": "execute_result"
    }
   ],
   "source": [
    "out_csv = \"model_comparison_results.csv\"\n",
    "df.to_csv(out_csv, index=False)\n",
    "out_csv, df.shape\n"
   ]
  },
  {
   "cell_type": "code",
   "execution_count": null,
   "id": "0df148af",
   "metadata": {},
   "outputs": [],
   "source": []
  }
 ],
 "metadata": {
  "kernelspec": {
   "display_name": ".venv",
   "language": "python",
   "name": "python3"
  },
  "language_info": {
   "codemirror_mode": {
    "name": "ipython",
    "version": 3
   },
   "file_extension": ".py",
   "mimetype": "text/x-python",
   "name": "python",
   "nbconvert_exporter": "python",
   "pygments_lexer": "ipython3",
   "version": "3.13.5"
  }
 },
 "nbformat": 4,
 "nbformat_minor": 5
}
